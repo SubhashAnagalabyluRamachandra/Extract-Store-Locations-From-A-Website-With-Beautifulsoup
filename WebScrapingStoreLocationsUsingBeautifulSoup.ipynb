{
  "nbformat": 4,
  "nbformat_minor": 0,
  "metadata": {
    "colab": {
      "provenance": []
    },
    "kernelspec": {
      "name": "python3",
      "display_name": "Python 3"
    },
    "language_info": {
      "name": "python"
    }
  },
  "cells": [
    {
      "cell_type": "code",
      "source": [
        "def get_source_code(url):\n",
        "    \"\"\"Gets the source code of the specified URL.\n",
        "\n",
        "    Args:\n",
        "        url (str): The URL of the website.\n",
        "\n",
        "    Returns:\n",
        "        str: The source code of the website.\n",
        "    \"\"\"\n",
        "\n",
        "    # This function gets the source code of the specified URL.\n",
        "    # The `requests` library is used to make a request to the website.\n",
        "    # The `status_code` attribute of the response object is checked to make sure that the request was successful.\n",
        "\n",
        "    response = requests.get(url)\n",
        "\n",
        "    if response.status_code == 200:\n",
        "        return response.text\n",
        "    else:\n",
        "        raise Exception(\"Error getting source code: {}\".format(response.status_code))\n",
        "\n"
      ],
      "metadata": {
        "id": "idMOFJPn9YWj"
      },
      "execution_count": 25,
      "outputs": []
    },
    {
      "cell_type": "code",
      "source": [
        "def get_dealers_data(html):\n",
        "    \"\"\"Extracts the data of dealers from the specified HTML.\n",
        "\n",
        "    Args:\n",
        "        html (str): The HTML of the website.\n",
        "\n",
        "    Returns:\n",
        "        list: The data of dealers.\n",
        "    \"\"\"\n",
        "\n",
        "    # This function extracts the data of dealers from the specified HTML.\n",
        "    # The `BeautifulSoup` library is used to parse the HTML.\n",
        "\n",
        "    soup = BeautifulSoup(html, \"html.parser\")\n",
        "\n",
        "    dealers = []\n",
        "\n",
        "    # This for loop iterates over the list of dealers and extracts the data for each dealer.\n",
        "\n",
        "    for li in soup.find_all(\"li\", {\"class\": \"info-window\"}):\n",
        "\n",
        "        name = li.find(\"span\", {\"class\": \"org\"})\n",
        "        if name:\n",
        "            name = name.text\n",
        "\n",
        "        address = li.find(\"span\", {\"class\": \"street-address\"})\n",
        "        if address:\n",
        "            address = address.text\n",
        "\n",
        "        phone = li.find(\"span\", {\"data-phone-ref\": \"SALES\"})\n",
        "        if phone:\n",
        "            phone = phone.text\n",
        "\n",
        "        website = li.find(\"a\", {\"class\": \"url\"})\n",
        "        if website:\n",
        "            website = website[\"href\"]\n",
        "\n",
        "        dealer = {\n",
        "            \"name\": name,\n",
        "            \"address\": address,\n",
        "            \"phone\": phone,\n",
        "            \"website\": website\n",
        "        }\n",
        "\n",
        "        dealers.append(dealer)\n",
        "\n",
        "    return dealers\n"
      ],
      "metadata": {
        "id": "GbwTTUew-b0r"
      },
      "execution_count": 26,
      "outputs": []
    },
    {
      "cell_type": "code",
      "source": [
        "#Get the URL from the user and print the data of dealers use this URL: https://www.lithia.com/locations/store-locations.htm\n",
        "def main():\n",
        "    url = input(\"Enter the URL: \")\n",
        "    html = get_source_code(url)\n",
        "    dealers_data = get_dealers_data(html)\n",
        "    df = pd.DataFrame(dealers_data)\n",
        "    print(df)\n",
        "    df.to_excel(\"Lithiadealers.xlsx\", index=False)\n",
        "\n",
        "if __name__ == \"__main__\":\n",
        "    main()\n"
      ],
      "metadata": {
        "colab": {
          "base_uri": "https://localhost:8080/"
        },
        "id": "9W09Z7vT-ioN",
        "outputId": "e97f9be8-5ed4-419e-90d0-9e668d80b9cf"
      },
      "execution_count": 27,
      "outputs": [
        {
          "output_type": "stream",
          "name": "stdout",
          "text": [
            "Enter the URL: https://www.lithia.com/locations/store-locations.htm\n",
            "                                  name                  address  \\\n",
            "0                      \\nABC Hyundai\\n      6825 Redwood Street   \n",
            "1    \\nAccess Ford of Corpus Christi\\n      3680 I-69 Access Rd   \n",
            "2                \\nAcura of Honolulu\\n   3251 North Nimitz Hwy.   \n",
            "3                \\nAcura of Johnston\\n      5138 Merle Hay Road   \n",
            "4            \\nAcura of Sherman Oaks\\n  5230 Van Nuys Boulevard   \n",
            "..                                 ...                      ...   \n",
            "307         \\nWilde East Towne Honda\\n  5555 High Crossing Blvd   \n",
            "308                    \\nWilde Honda\\n     1603 E Moreland Blvd   \n",
            "309                   \\nWilde Subaru\\n           1710 Hwy 164 S   \n",
            "310                   \\nWilde Toyota\\n          3225 S 108th St   \n",
            "311                   \\nWilde Toyota\\n  3225 South 108th Street   \n",
            "\n",
            "              phone                              website  \n",
            "0      702-475-8698           https://www.abchyundai.com  \n",
            "1      833-965-4047           https://www.accessford.com  \n",
            "2      808-800-4339        https://www.acurahonolulu.com  \n",
            "3      877-331-1557      https://www.acuraofjohnston.com  \n",
            "4      747-217-2485     https://www.acurashermanoaks.com  \n",
            "..              ...                                  ...  \n",
            "307    608-200-4230  https://www.wildeeasttownehonda.com  \n",
            "308    262-529-7002           https://www.wildehonda.com  \n",
            "309    262-649-2808          https://www.wildesubaru.com  \n",
            "310    414-209-6500          https://www.wildetoyota.com  \n",
            "311  (414) 209-6501          https://www.wildetoyota.com  \n",
            "\n",
            "[312 rows x 4 columns]\n"
          ]
        }
      ]
    }
  ]
}